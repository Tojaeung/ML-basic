{
 "cells": [
  {
   "cell_type": "code",
   "execution_count": 6,
   "metadata": {},
   "outputs": [],
   "source": [
    "import numpy as np\n",
    "import pandas as pd\n",
    "import sklearn\n",
    "\n",
    "from sklearn.preprocessing import LabelEncoder"
   ]
  },
  {
   "cell_type": "code",
   "execution_count": 9,
   "metadata": {},
   "outputs": [],
   "source": [
    "# Null값 처리\n",
    "def fillna(df: pd.DataFrame) -> pd.DataFrame:\n",
    "    df['Age'].fillna(df['Age'].mean(), inplace=True)\n",
    "    df['Cabin'].fillna('N',inplace= True)\n",
    "    df['Embarked'].fillna('N',inplace= True)\n",
    "    return df\n",
    "\n",
    "# 불필요한 칼럼 제거\n",
    "def drop_featrues(df: pd.DataFrame) -> pd.DataFrame:\n",
    "    df.drop(['PassengerId', 'Name', 'Ticket'], axis=1, inplace=True)\n",
    "    return df\n",
    "\n",
    "# 문자열 칼럼 숫자롤 바꿔주기(인코딩)\n",
    "def format_features(df: pd.DataFrame) -> pd.DataFrame:\n",
    "    df['Cabin'] = df['Cabin'].str[:1]\n",
    "    features = ['Cabin', 'Sex', 'Embarked']\n",
    "    \n",
    "    for feature in features:\n",
    "        label = LabelEncoder()\n",
    "        label = label.fit(df[feature])\n",
    "        df[feature] = label.transform(df[feature])\n",
    "        \n",
    "    return df\n",
    "\n",
    "# 위의 3함수 묶어서 실행\n",
    "def transform_features(df: pd.DataFrame) -> pd.DataFrame:\n",
    "    df = fillna(df)\n",
    "    df = drop_featrues(df)\n",
    "    df = format_features(df)\n",
    "    return df\n"
   ]
  },
  {
   "cell_type": "code",
   "execution_count": 10,
   "metadata": {},
   "outputs": [],
   "source": [
    "titanic_df = pd.read_csv(\"../data/titanic_train.csv\")\n",
    "\n",
    "# 타겟 데이터 분리\n",
    "y_titanic_df = titanic_df['Survived']\n",
    "# 타겟 데이터 원본에서 제거\n",
    "X_titanic_df = titanic_df.drop('Survived', axis=1, inplace=False)\n",
    "# 데이터 가공\n",
    "X_titanic_df = transform_features(X_titanic_df)"
   ]
  },
  {
   "cell_type": "code",
   "execution_count": 15,
   "metadata": {},
   "outputs": [],
   "source": [
    "from sklearn.model_selection import train_test_split\n",
    "\n",
    "X_train, X_test, y_train, y_test = train_test_split(X_titanic_df, y_titanic_df, test_size=0.2, random_state=11)"
   ]
  },
  {
   "cell_type": "code",
   "execution_count": 37,
   "metadata": {},
   "outputs": [],
   "source": [
    "from sklearn.tree import DecisionTreeClassifier\n",
    "from sklearn.ensemble import RandomForestClassifier\n",
    "from sklearn.linear_model import LogisticRegression\n",
    "from sklearn.metrics import accuracy_score"
   ]
  },
  {
   "cell_type": "code",
   "execution_count": 33,
   "metadata": {},
   "outputs": [],
   "source": [
    "# 결정트리, 랜덤 포레스트, 로지스틱 회귀 이용해보자 !!\n",
    "dt_clf = DecisionTreeClassifier(random_state=11)\n",
    "rf_clf = RandomForestClassifier(random_state=11)\n",
    "lr_clf = LogisticRegression(solver='liblinear')"
   ]
  },
  {
   "cell_type": "code",
   "execution_count": 34,
   "metadata": {},
   "outputs": [
    {
     "name": "stdout",
     "output_type": "stream",
     "text": [
      "결정트리 정확도: 0.7877\n",
      "랜덤 포레스트 정확도:  0.8547\n",
      "로지스틱 회귀 정확도:  0.8547\n"
     ]
    }
   ],
   "source": [
    "# 결정트리\n",
    "dt_clf.fit(X_train, y_train) # 데이터 학습\n",
    "dt_pred = dt_clf.predict(X_test) # 테스트 데이터 넣어서 예측\n",
    "print('결정트리 정확도: {0:.4f}'.format(accuracy_score(y_test,dt_pred))) # 실제 데이터와 얼마나 일치하는지 확인(정확도 확인)\n",
    "\n",
    "# 랜덤 포레스트\n",
    "rf_clf.fit(X_train, y_train)\n",
    "rf_pred = rf_clf.predict(X_test)\n",
    "print('랜덤 포레스트 정확도:  {0:.4f}'.format(accuracy_score(y_test,rf_pred))) \n",
    "\n",
    "# 로지스틱 회귀\n",
    "lr_clf.fit(X_train, y_train)\n",
    "lr_pred = rf_clf.predict(X_test)\n",
    "print('로지스틱 회귀 정확도:  {0:.4f}'.format(accuracy_score(y_test,lr_pred))) "
   ]
  },
  {
   "cell_type": "code",
   "execution_count": 46,
   "metadata": {},
   "outputs": [
    {
     "name": "stdout",
     "output_type": "stream",
     "text": [
      "교차검증 1차의 정확도: 0.7542\n",
      "교차검증 2차의 정확도: 0.7809\n",
      "교차검증 3차의 정확도: 0.7865\n",
      "교차검증 4차의 정확도: 0.7697\n",
      "교차검증 5차의 정확도: 0.8202\n",
      "평균 정확도: 0.7823\n",
      "교차검증 1차의 정확도: 0.7933\n",
      "교차검증 2차의 정확도: 0.8090\n",
      "교차검증 3차의 정확도: 0.8371\n",
      "교차검증 4차의 정확도: 0.7753\n",
      "교차검증 5차의 정확도: 0.8596\n",
      "평균 정확도: 0.8148\n",
      "교차검증 1차의 정확도: 0.7933\n",
      "교차검증 2차의 정확도: 0.7921\n",
      "교차검증 3차의 정확도: 0.7753\n",
      "교차검증 4차의 정확도: 0.7472\n",
      "교차검증 5차의 정확도: 0.8427\n",
      "평균 정확도: 0.7901\n"
     ]
    }
   ],
   "source": [
    "from sklearn.model_selection import KFold\n",
    "\n",
    "# 교차검증\n",
    "def exec_kfold(clf, folds = 5):\n",
    "    kfold = KFold(n_splits=folds)\n",
    "    scores = []\n",
    "\n",
    "    # 5번 돌리기 위해 for문 이용\n",
    "    for i, (train_index, test_index) in enumerate(kfold.split(X_titanic_df)):\n",
    "        X_train, X_test =  X_titanic_df.values[train_index], X_titanic_df.values[test_index]\n",
    "        y_train, y_test =  y_titanic_df.values[train_index], y_titanic_df.values[test_index]\n",
    "        \n",
    "        clf.fit(X_train, y_train)\n",
    "        pred = clf.predict(X_test)\n",
    "        accuracy = accuracy_score(y_test, pred)\n",
    "        scores.append(accuracy)\n",
    "        print('교차검증 {0}차의 정확도: {1:.4f}'.format(i+1, accuracy))\n",
    "    \n",
    "    print(\"평균 정확도: {0:.4f}\".format(np.mean(scores)))\n",
    "\n",
    "exec_kfold(dt_clf)\n",
    "exec_kfold(rf_clf)\n",
    "exec_kfold(lr_clf)\n",
    "    "
   ]
  },
  {
   "cell_type": "code",
   "execution_count": 49,
   "metadata": {},
   "outputs": [
    {
     "name": "stdout",
     "output_type": "stream",
     "text": [
      "교차검증 1차의 정확도: 0.7430.\n",
      "교차검증 2차의 정확도: 0.7753.\n",
      "교차검증 3차의 정확도: 0.7921.\n",
      "교차검증 4차의 정확도: 0.7865.\n",
      "교차검증 5차의 정확도: 0.8427.\n",
      "평균 정확도: 0.7879\n",
      "교차검증 1차의 정확도: 0.7933.\n",
      "교차검증 2차의 정확도: 0.7978.\n",
      "교차검증 3차의 정확도: 0.8483.\n",
      "교차검증 4차의 정확도: 0.7640.\n",
      "교차검증 5차의 정확도: 0.8652.\n",
      "평균 정확도: 0.8137\n",
      "교차검증 1차의 정확도: 0.7877.\n",
      "교차검증 2차의 정확도: 0.7921.\n",
      "교차검증 3차의 정확도: 0.7753.\n",
      "교차검증 4차의 정확도: 0.7640.\n",
      "교차검증 5차의 정확도: 0.8202.\n",
      "평균 정확도: 0.7879\n"
     ]
    }
   ],
   "source": [
    "# 위의 kfold보다 교차검증을 훨씬 간단하게 할 수 있다.\n",
    "from sklearn.model_selection import cross_val_score\n",
    "\n",
    "def exec_cross(clf, cv =5):\n",
    "    scores = cross_val_score(clf, X_titanic_df, y_titanic_df, cv=5)    \n",
    "    for i, accuracy in enumerate(scores):\n",
    "        print(\"교차검증 {0}차의 정확도: {1:.4f}.\".format(i + 1, accuracy))\n",
    "    print(\"평균 정확도: {0:.4f}\".format(np.mean(scores)))\n",
    "\n",
    "exec_cross(dt_clf)\n",
    "exec_cross(rf_clf)\n",
    "exec_cross(lr_clf)"
   ]
  },
  {
   "cell_type": "code",
   "execution_count": 55,
   "metadata": {},
   "outputs": [
    {
     "name": "stdout",
     "output_type": "stream",
     "text": [
      "최적 하이퍼 파라미터: {'max_depth': 3, 'min_samples_leaf': 5, 'min_samples_split': 2}\n",
      "최고 정확도: 0.7992\n"
     ]
    }
   ],
   "source": [
    "from sklearn.model_selection import GridSearchCV\n",
    "\n",
    "# 36번 학습시키고 예측 수행 (더 많이 학습시키니까 정확해진다..)\n",
    "parameters = {'max_depth': [2,3,5,10], 'min_samples_split': [2,3,5], 'min_samples_leaf': [1,5,8]}\n",
    "\n",
    "# 결정트리\n",
    "grid_dclf = GridSearchCV(dt_clf, param_grid=parameters, scoring='accuracy', cv=5)\n",
    "grid_dclf.fit(X_train, y_train)\n",
    "print(\"최적 하이퍼 파라미터:\", grid_dclf.best_params_)\n",
    "print(\"최고 정확도: {0:.4f}\".format(grid_dclf.best_score_))\n",
    "\n",
    "# 랜덤 포레스트 (왜 이렇게 오래걸리지?)\n",
    "# grid_dclf = GridSearchCV(rf_clf, param_grid=parameters, scoring='accuracy', cv=5)\n",
    "# grid_dclf.fit(X_train, y_train)\n",
    "# print(\"최적 하이퍼 파라미터:\", grid_dclf.best_params_)\n",
    "# print(\"최고 정확도: {0:.4f}\".format(grid_dclf.best_score_))\n",
    "\n",
    "# 로지스틱 회귀 (왜 안되지??)\n",
    "# grid_dclf = GridSearchCV(lr_clf, param_grid=parameters, scoring='accuracy', cv=5)\n",
    "# grid_dclf.fit(X_train, y_train)\n",
    "# print(\"최적 하이퍼 파라미터:\", grid_dclf.best_params_)\n",
    "# print(\"최고 정확도: {0:.4f}\".format(grid_dclf.best_score_))"
   ]
  }
 ],
 "metadata": {
  "kernelspec": {
   "display_name": "Python 3",
   "language": "python",
   "name": "python3"
  },
  "language_info": {
   "codemirror_mode": {
    "name": "ipython",
    "version": 3
   },
   "file_extension": ".py",
   "mimetype": "text/x-python",
   "name": "python",
   "nbconvert_exporter": "python",
   "pygments_lexer": "ipython3",
   "version": "3.11.1"
  },
  "orig_nbformat": 4,
  "vscode": {
   "interpreter": {
    "hash": "a92fb3c203d9e3cba4bb61f574b1d6f1667d6b21e05910791ae196352520b006"
   }
  }
 },
 "nbformat": 4,
 "nbformat_minor": 2
}
